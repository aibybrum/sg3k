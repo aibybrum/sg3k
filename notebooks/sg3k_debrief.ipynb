{
 "cells": [
  {
   "cell_type": "markdown",
   "id": "755447b0-ffb4-4db6-a597-a878d777ed75",
   "metadata": {},
   "source": [
    "# SW00P Progression\n",
    "\n",
    "## Canopy - Katana107 - WL 1.71\n",
    "\n",
    "- Downwind: 1400 ft\n",
    "- Base: 1100 ft\n",
    "- POM (point of manoevre): 800 ft"
   ]
  },
  {
   "cell_type": "markdown",
   "id": "a7312d02-1efc-43e8-9fcd-290756481e53",
   "metadata": {},
   "source": [
    "## Ground Tasks"
   ]
  },
  {
   "cell_type": "markdown",
   "id": "b2ea155d-3847-4e61-9a22-999e4f5de072",
   "metadata": {},
   "source": [
    "### Chapter 1: Log Glide Ratio\n",
    "\n",
    "**Action:** Make an overview of the glide ratio in different wind conditions.  \n",
    "**Observations:**\n",
    "\n",
    "MOORSELEUHUH\n",
    "\n",
    "In winds 10 to 18 knots (from north-west 330°):  \n",
    "    - downwind to base: 2.31, 1,78  \n",
    "    - base to pom: 2.7, 2.4  \n",
    "    "
   ]
  },
  {
   "cell_type": "markdown",
   "id": "94d5d711-1255-4851-8a3c-e20e6ba0c5d2",
   "metadata": {},
   "source": [
    "### Chapter 2: Forward speed\n",
    "\n",
    "**Action:** What is your forward speed in full flight, half braked, flared  \n",
    "**Observations:**"
   ]
  },
  {
   "cell_type": "markdown",
   "id": "76f08645-22a6-4ed6-afbd-6d397c166664",
   "metadata": {},
   "source": [
    "### Chapter 3: Search for Optimal Flying Pattern (POM)\n",
    "\n",
    "**Action:** Experiment with different base leg lengths to find a pattern that leads to a good setup point for the swoop.  \n",
    "**Observations:**"
   ]
  },
  {
   "cell_type": "markdown",
   "id": "45d2da8a-7b99-4bd2-b709-47de2d748f81",
   "metadata": {},
   "source": [
    "### Chapter 4: Look at performance of the 270° Turn\n",
    "\n",
    "**Action:** After landing look at the vertical speed and see what you can approve.  \n",
    "**Observations:**\n",
    "\n",
    "- Max Vertical speed\n",
    "- Max Horizontal speed\n",
    "- Max Horizontal distance"
   ]
  },
  {
   "cell_type": "markdown",
   "id": "5de69e13-22f9-4861-8eb2-675a91a264d4",
   "metadata": {},
   "source": [
    "## Altitude Tasks"
   ]
  },
  {
   "cell_type": "markdown",
   "id": "01d7ac97-95be-41f3-aa8d-a124b922ef27",
   "metadata": {},
   "source": [
    "### Chapter 5: Measure altitude loss in different types of turns\n",
    "\n",
    "**Action:** Measure altitude loss in rear riser, toggle and flat turns.  \n",
    "**Observations:**"
   ]
  },
  {
   "cell_type": "markdown",
   "id": "400caea8-2af1-4b5c-827c-b1353d3846df",
   "metadata": {},
   "source": [
    "### Chapter 6: Perform normal 270° turns\n",
    "\n",
    "**Action:** Execute five normal 270° turns and record the altitude loss for each to gather performance data.  \n",
    "**Observations:**\n",
    "\n",
    "Keep in mind that these 270° are still not optimal (losing vertical speed in start of the turn)\n",
    "\n",
    "| **Start altitude** | **End altitude** | **Altitude loss** |\n",
    "|:-------------------|:-----------------|:------------------|\n",
    "| 5200 ft            | 4330 ft          | 870 ft            |\n",
    "| 4000 ft            | 3150 ft          | 850 ft            |\n",
    "| 5500 ft            | 4615 ft          | 885 ft            |\n",
    "| 4450 ft            | 3670 ft          | 880 ft            |\n",
    "| 4860 ft            | 4000 ft          | 860 ft            |\n",
    "| 5675 ft            | 4770 ft          | 905 ft            |\n",
    "| 4590 ft            | 3715 ft          | 875 ft            |"
   ]
  },
  {
   "cell_type": "markdown",
   "id": "314fe68a-ca0c-45c9-9213-b5d1b1ea2816",
   "metadata": {},
   "source": [
    "### Chapter 7: Perform fast 270° turns\n",
    "\n",
    "**Action:** Execute five fast 270° turns and record the altitude loss for each to gather performance data.  \n",
    "**Observations:**\n"
   ]
  },
  {
   "cell_type": "markdown",
   "id": "038c78e2-f659-42d6-98d8-6b00362bd153",
   "metadata": {},
   "source": [
    "### Chapter 8: Perform slow 270° turns\n",
    "\n",
    "**Action:** Execute five slow 270° turns and record the altitude loss for each to gather performance data.  \n",
    "**Observations:**"
   ]
  },
  {
   "cell_type": "markdown",
   "id": "628f039e-1040-475c-ab23-d912e1f2f8b5",
   "metadata": {},
   "source": [
    "### Chapter 9: Abort 270° turns\n",
    "\n",
    "**Action:** Practice aborting the 270° turn suddenly and measure the altitude loss to understand the safety margins.   \n",
    "**Observations:**"
   ]
  },
  {
   "cell_type": "markdown",
   "id": "34a8b995-071d-44af-ac6c-5a00e9040db8",
   "metadata": {},
   "source": [
    "### Chapter 10: Overrotate 270° turn\n",
    "\n",
    "**Action:** Intentionally overrotate the 270° turn at a safe altitude to practice recovery techniques.     \n",
    "**Observations:**"
   ]
  },
  {
   "cell_type": "markdown",
   "id": "ef3a4210-fb27-454c-b5f4-dfb0c062a9c3",
   "metadata": {},
   "source": [
    "### Chapter 11: 270° turn using harness only\n",
    "\n",
    "**Action:** Perform a 270° turn using only the harness for input to understand the harness’s influence on the turn.     \n",
    "**Observations:**"
   ]
  },
  {
   "cell_type": "markdown",
   "id": "2f69a871-ef14-47d9-9ace-7f8f849eeb3e",
   "metadata": {},
   "source": [
    "### Chapter 12: Test body positions at altitude\n",
    "\n",
    "**Action:** Experiment with different body positions during high-altitude flights to understand their impact on the swoop.       \n",
    "**Observations:**"
   ]
  },
  {
   "cell_type": "markdown",
   "id": "d666a295-0a71-45ab-8ac0-ccc7943211d0",
   "metadata": {},
   "source": [
    "## Things to keep in mind"
   ]
  },
  {
   "cell_type": "markdown",
   "id": "0b3125f2-2282-4280-bf32-ecb8dfda2582",
   "metadata": {},
   "source": [
    "### Chapter 13: Smooth first 90° in 270° turn\n",
    "\n",
    "**Action:** Ensure the first 90° of the 270° turn is slow and controlled, focusing on a smooth transition.  \n",
    "**Observations:**"
   ]
  },
  {
   "cell_type": "markdown",
   "id": "5fcf19cc-0d91-4cb9-a5db-4a013b07af7a",
   "metadata": {},
   "source": [
    "# Flight Plan - Sw00p Preparation\n",
    "\n",
    "This overview calculates the total distance flown during a skydiving landing pattern under various wind conditions: no wind, 10 knots, and 20 knots.\n",
    "\n",
    "<table>\n",
    "<tr><th align=\"center\">No wind</th><th align=\"center\">10-Knots Wind or 5.1444m/s</th><th align=\"center\">20-Knots Wind or 10.2888m/s</th></tr>\n",
    "\n",
    "<tr><td>\n",
    "\n",
    "| **Pattern** | **Glide Ratio Formula** | **Glide Ratio** | **Horizontal distance Formula** | **Distance Flown (m)** |\n",
    "|:------------|:------------------------|:----------------|:--------------------------------|:-----------------------|\n",
    "| Downwind    | /                       | 2.5             | 91.44m * 2.5                    | 228.6                  |\n",
    "| Base        | /                       | 2.5             | 91.44m * 2.5                    | 228.6                  |\n",
    "| Final       | /                       | 2.5             | 91.44m * 2.5                    | 228.6                  |\n",
    "\n",
    "</td><td>\n",
    "\n",
    "| **Pattern** | **Glide Ratio Formula**            | **Glide Ratio** | **Horizontal distance Formula**  | **Distance Flown (m)** |\n",
    "|:------------|:-----------------------------------|:----------------|:---------------------------------|:-----------------------|\n",
    "| Downwind    | 2.5 * (1 + 5.1444 / 25 (airspeed)) | 3.0145          | 91.44m * 3.0145                  | 275.5                  |              \n",
    "| Base        | /                                  | 2.6             | 91.44m * 2.6                     | 237.7                  |\n",
    "| Final       | 2.5 * (1 - 5.1444 / 25 (airspeed)) | 1.9855          | 91.44m * 1.9855                  | 181.5                  |\n",
    "\n",
    "</td><td>\n",
    "\n",
    "| **Pattern** | **Glide Ratio Formula**             | **Glide Ratio** | **Horizontal distance Formula**  | **Distance Flown (m)** |\n",
    "|:------------|:------------------------------------|:----------------|:---------------------------------|:-----------------------|\n",
    "| Downwind    | 2.5 * (1 + 10.2888 / 25 (airspeed)) | 3.529           | 91.44m * 3.529                   | 322.7                  |              \n",
    "| Base        | /                                   | 2.7             | 91.44m * 2.7                     | 246.9                  |\n",
    "| Final       | 2.5 * (1 - 10.2888 / 25 (airspeed)) | 1.471           | 91.44m * 1.471                   | 134.5                  |\n",
    "\n",
    "</td></tr>\n",
    "</table>\n",
    "\n",
    "![No Wind Prep](\"../assets/img/nowindprep.png\")\n",
    "\n",
    "!No Wind Prep"
   ]
  },
  {
   "cell_type": "code",
   "execution_count": 5,
   "id": "b976eed5-19c5-4552-a86a-77d5fc2d39eb",
   "metadata": {
    "editable": true,
    "slideshow": {
     "slide_type": ""
    },
    "tags": []
   },
   "outputs": [
    {
     "name": "stdout",
     "output_type": "stream",
     "text": [
      "True\n"
     ]
    }
   ],
   "source": [
    "\n",
    "import os\n",
    "print(os.path.exists(\"../assets/img/nowindprep.png\"))\n"
   ]
  },
  {
   "cell_type": "markdown",
   "id": "2eac52e9-80fb-4e7c-bc6a-5a131f3a7058",
   "metadata": {},
   "source": [
    "<img src=\"../assets/img/nowindprep.png\" alt=\"No Wind Prep\" width=\"600\"/>"
   ]
  },
  {
   "cell_type": "code",
   "execution_count": null,
   "id": "bd936a09-a17a-400e-9590-bcb5a27ba4e9",
   "metadata": {},
   "outputs": [],
   "source": []
  }
 ],
 "metadata": {
  "kernelspec": {
   "display_name": "Python 3 (ipykernel)",
   "language": "python",
   "name": "python3"
  },
  "language_info": {
   "codemirror_mode": {
    "name": "ipython",
    "version": 3
   },
   "file_extension": ".py",
   "mimetype": "text/x-python",
   "name": "python",
   "nbconvert_exporter": "python",
   "pygments_lexer": "ipython3",
   "version": "3.11.6"
  }
 },
 "nbformat": 4,
 "nbformat_minor": 5
}
